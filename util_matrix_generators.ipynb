{
 "cells": [
  {
   "cell_type": "code",
   "execution_count": 1,
   "metadata": {},
   "outputs": [],
   "source": [
    "import numpy as np"
   ]
  },
  {
   "cell_type": "code",
   "execution_count": 2,
   "metadata": {},
   "outputs": [],
   "source": [
    "def gen_random_util_matrix(minimum, maximum, moves,samples=1):\n",
    "    # Generates a matrix of shape (samples,moves,moves) with integer values in the range of [minimum,maximum]\n",
    "    return np.random.randint(minimum,high=(maximum + 1),size=(samples,moves,moves))"
   ]
  },
  {
   "cell_type": "code",
   "execution_count": 3,
   "metadata": {},
   "outputs": [],
   "source": [
    "def gen_biased_util_matrix(maximum, moves, samples=1):\n",
    "    # Generates a matrix of shape (samples,moves,moves) with integer values in the range of [0,maximum]\n",
    "    return np.random.randint(maximum, size=(samples, moves,moves))"
   ]
  },
  {
   "cell_type": "code",
   "execution_count": 4,
   "metadata": {},
   "outputs": [],
   "source": [
    "def gen_rps_util_matrix(moves):\n",
    "    # Generates a symetric matrix of size (moves,moves)\n",
    "    # An extention of the rock-paper-scissors game util matrix\n",
    "    A = np.zeros((moves,moves))\n",
    "    A += 1\n",
    "    A[0::2,::2] -=2\n",
    "    A[1::2,1::2] -= 2\n",
    "    B = np.tril(A,-1)\n",
    "    C = B + -1*B.T\n",
    "    return C"
   ]
  },
  {
   "cell_type": "code",
   "execution_count": 1,
   "metadata": {},
   "outputs": [],
   "source": [
    " def matching_util_matrix(moves):\n",
    "    # Generates a util matrix with 1 along the diagonal and -1 everywhere else\n",
    "    # shape:(moves,moves)\n",
    "    A = np.zeros((moves,moves))\n",
    "    A -= 1\n",
    "    B = np.zeros(moves) + 2\n",
    "    return A + np.diag(B)"
   ]
  },
  {
   "cell_type": "code",
   "execution_count": null,
   "metadata": {},
   "outputs": [],
   "source": [
    "def generate_R_random(low, high, n, symmetric=True):\n",
    "    A = np.zeros((n, n))\n",
    "    for i in range(n):\n",
    "        for j in range(i+1, n):\n",
    "            A[i][j] = np.random.uniform(low, high)\n",
    "            if symmetric:\n",
    "                A[j][i] = -A[i][j]\n",
    "            else:\n",
    "                A[j][i] = np.random.uniform(low, high)\n",
    "    return A"
   ]
  },
  {
   "cell_type": "code",
   "execution_count": null,
   "metadata": {},
   "outputs": [],
   "source": []
  }
 ],
 "metadata": {
  "kernelspec": {
   "display_name": "Python 3",
   "language": "python",
   "name": "python3"
  },
  "language_info": {
   "codemirror_mode": {
    "name": "ipython",
    "version": 3
   },
   "file_extension": ".py",
   "mimetype": "text/x-python",
   "name": "python",
   "nbconvert_exporter": "python",
   "pygments_lexer": "ipython3",
   "version": "3.7.4"
  }
 },
 "nbformat": 4,
 "nbformat_minor": 4
}
