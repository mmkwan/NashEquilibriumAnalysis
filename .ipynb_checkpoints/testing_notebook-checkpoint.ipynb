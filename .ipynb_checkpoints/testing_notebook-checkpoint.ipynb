{
 "cells": [
  {
   "cell_type": "code",
   "execution_count": 1,
   "metadata": {},
   "outputs": [
    {
     "data": {
      "text/plain": [
       "'\\nCreated on Wed Dec  1 15:34:54 2021\\n\\n@author: p4u1\\n'"
      ]
     },
     "execution_count": 1,
     "metadata": {},
     "output_type": "execute_result"
    }
   ],
   "source": [
    "# -*- coding: utf-8 -*-\n",
    "\"\"\"\n",
    "Created on Wed Dec  1 15:34:54 2021\n",
    "\n",
    "@author: p4u1\n",
    "\"\"\""
   ]
  },
  {
   "cell_type": "markdown",
   "metadata": {},
   "source": [
    "# Table of Contents"
   ]
  },
  {
   "cell_type": "markdown",
   "metadata": {},
   "source": [
    "## Optimization functions <a class=\"anchor\" id=\"functions\"></a>"
   ]
  },
  {
   "cell_type": "code",
   "execution_count": 1,
   "metadata": {},
   "outputs": [],
   "source": [
    "import numpy as np\n",
    "import scipy.optimize as opt"
   ]
  },
  {
   "cell_type": "code",
   "execution_count": 2,
   "metadata": {},
   "outputs": [],
   "source": [
    "def primalLinearProgOpt(A, meth = 'simplex', tol=1e-9):\n",
    "    \"\"\" Wrapper function to get primal optimization results\n",
    "        Uses scipy.optimize.linprog method\n",
    "    \n",
    "    Arguments:  A - square n x n payoff matrix (must be ndarray)\n",
    "                n - size of matrix A\n",
    "                method - linear programming method to use\n",
    "                \n",
    "    Returns:    Optimization variable values\n",
    "                Objective function value\"\"\"\n",
    "\n",
    "    # Objective function coefficents\n",
    "    n = len(A)\n",
    "    c0 = [0 for i in range(n)]\n",
    "    c0.append(-1)\n",
    "    c0 = np.array(c0)\n",
    "    \n",
    "    # Inequality contraints\n",
    "    a = np.ones((n,1))\n",
    "    A_u = np.concatenate((-(A.T), a), axis = 1)\n",
    "    b_u = np.zeros(n)\n",
    "    \n",
    "    # Equality contraints\n",
    "    A_e = [1 for i in range(n)]\n",
    "    A_e.append(0)\n",
    "    A_e = np.array(A_e)\n",
    "    A_e = A_e.reshape((1,n+1))\n",
    "    b_e = np.array(1)\n",
    "    \n",
    "    # Bounds\n",
    "    bound = [(0, None) for i in range(n)]\n",
    "    bound.append((None,None))\n",
    "    \n",
    "    # Run scipy.optimize.linprog method\n",
    "    results = opt.linprog(c=c0,\n",
    "                          A_ub=A_u, b_ub=b_u,\n",
    "                          A_eq=A_e, b_eq=b_e,\n",
    "                          bounds=bound, \n",
    "                          method=meth,\n",
    "                          options = {'tol':tol})\n",
    "    \n",
    "    return results.x\n",
    "\n",
    "# Test area\n",
    "# A = np.array([[0,-1,1],[1,0,-1],[-1,1,0]])\n",
    "# n = 3\n",
    "\n",
    "# resultsPrimal = primalLinearProgOpt(A, n, 'interior-point')\n",
    "# resultsDual = dualLinearProgOpt(A, n)"
   ]
  },
  {
   "cell_type": "code",
   "execution_count": 3,
   "metadata": {},
   "outputs": [],
   "source": [
    "def dualLinearProgOpt(A, meth='simplex', tol=1e-9):\n",
    "    \"\"\" Wrapper function to get dual optimization results\n",
    "        Uses scipy.optimize.linprog method\n",
    "    \n",
    "    Arguments:  A - square n x n payoff matrix (must be ndarray)\n",
    "                n - size of matrix A\n",
    "                method - linear programming method to use\n",
    "                \n",
    "    Returns:    Optimization variable values\"\"\"\n",
    "\n",
    "    # Objective function coefficents\n",
    "    n = len(A)\n",
    "    c0 = [0 for i in range(n)]\n",
    "    c0.append(1)\n",
    "    c0 = np.array(c0)\n",
    "    \n",
    "    # Inequality contraints\n",
    "    a = np.ones((n,1))\n",
    "    A_u = np.concatenate((A, -a), axis = 1)\n",
    "    b_u = np.zeros(n)\n",
    "    \n",
    "    # Equality contraints\n",
    "    A_e = [1 for i in range(n)]\n",
    "    A_e.append(0)\n",
    "    A_e = np.array(A_e)\n",
    "    A_e = A_e.reshape((1,n+1))\n",
    "    b_e = np.array(1)\n",
    "    \n",
    "    # Bounds\n",
    "    bound = [(0, None) for i in range(n)]\n",
    "    bound.append((None,None))\n",
    "    \n",
    "    # Run scipy.optimize.linprog method\n",
    "    results = opt.linprog(c=c0,\n",
    "                          A_ub=A_u, b_ub=b_u,\n",
    "                          A_eq=A_e, b_eq=b_e,\n",
    "                          bounds=bound, \n",
    "                          method=meth,\n",
    "                          options={'tol':tol})\n",
    "    \n",
    "    return results.x"
   ]
  },
  {
   "cell_type": "markdown",
   "metadata": {},
   "source": [
    "## Testing <a class=\"anchor\" id=\"test\"></a>"
   ]
  },
  {
   "cell_type": "code",
   "execution_count": 4,
   "metadata": {},
   "outputs": [],
   "source": [
    "import time\n",
    "%run util_matrix_generators.ipynb"
   ]
  },
  {
   "cell_type": "markdown",
   "metadata": {},
   "source": [
    "### Simplex Method <a class=\"anchor\" id=\"simplex\"></a>"
   ]
  },
  {
   "cell_type": "code",
   "execution_count": 5,
   "metadata": {
    "scrolled": true
   },
   "outputs": [],
   "source": [
    "# varying size of R\n",
    "# runtimes = []\n",
    "# for i in range(4):\n",
    "#     times = []\n",
    "#     for n in range(1, 8):\n",
    "#         A = generate_R_uniform(-10,10,4**n)\n",
    "#         start = time.time()\n",
    "#         primalLinearProgOpt(A, meth='simplex')\n",
    "#         dualLinearProgOpt(A, meth='simplex')\n",
    "#         end = time.time()\n",
    "#         times.append((4**n,end - start))\n",
    "#         A = None\n",
    "#     runtimes.append(times)"
   ]
  },
  {
   "cell_type": "code",
   "execution_count": 7,
   "metadata": {},
   "outputs": [],
   "source": [
    "runtimes_1 = [[(4, 0.01236166000366211),\n",
    "  (16, 0.046868324279785156),\n",
    "  (64, 0.8179008960723877),\n",
    "  (256, 2.2604267597198486),\n",
    "  (1024, 12.494543552398682),\n",
    "  (4096, 144.56210017204285),\n",
    "  (16384, 2156.70179438591)],\n",
    " [(4, 0.010070323944091797),\n",
    "  (16, 0.040194034576416016),\n",
    "  (64, 0.9248178005218506),\n",
    "  (256, 2.209834098815918),\n",
    "  (1024, 12.179248094558716),\n",
    "  (4096, 143.67370915412903),\n",
    "  (16384, 2118.866837978363)]]"
   ]
  },
  {
   "cell_type": "code",
   "execution_count": 8,
   "metadata": {},
   "outputs": [],
   "source": [
    "runtimes_2 = [[(4, 0.015622854232788086),\n",
    "  (16, 0.04686260223388672),\n",
    "  (64, 0.8256344795227051),\n",
    "  (256, 2.1602389812469482),\n",
    "  (1024, 12.73680853843689),\n",
    "  (4096, 143.63473534584045),\n",
    "  (16384, 2047.4476535320282)],\n",
    " [(4, 0.0),\n",
    "  (16, 0.04077935218811035),\n",
    "  (64, 0.9195899963378906),\n",
    "  (256, 1.9825420379638672),\n",
    "  (1024, 12.039593935012817),\n",
    "  (4096, 142.0642728805542),\n",
    "  (16384, 2018.9497396945953)],\n",
    " [(4, 0.010313987731933594),\n",
    "  (16, 0.07148504257202148),\n",
    "  (64, 0.8155932426452637),\n",
    "  (256, 2.071427583694458),\n",
    "  (1024, 12.336865186691284),\n",
    "  (4096, 139.42466163635254),\n",
    "  (16384, 2050.340402364731)],\n",
    " [(4, 0.010124683380126953),\n",
    "  (16, 0.030329227447509766),\n",
    "  (64, 0.9183640480041504),\n",
    "  (256, 2.0755138397216797),\n",
    "  (1024, 12.547472476959229),\n",
    "  (4096, 145.215660572052),\n",
    "  (16384, 2067.395848274231)]]"
   ]
  },
  {
   "cell_type": "code",
   "execution_count": 9,
   "metadata": {},
   "outputs": [],
   "source": [
    "runtimes_3 = [[(4, 0.015366554260253906),\n",
    "  (16, 0.031228303909301758),\n",
    "  (64, 0.8291316032409668),\n",
    "  (256, 2.1878323554992676),\n",
    "  (1024, 11.971662998199463),\n",
    "  (4096, 142.9147973060608),\n",
    "  (16384, 2051.5637900829315)],\n",
    " [(4, 0.008102655410766602),\n",
    "  (16, 0.06311821937561035),\n",
    "  (64, 0.916572093963623),\n",
    "  (256, 2.0815274715423584),\n",
    "  (1024, 12.322733163833618),\n",
    "  (4096, 143.38848209381104),\n",
    "  (16384, 2045.8231728076935)],\n",
    " [(4, 0.010090112686157227),\n",
    "  (16, 0.04037070274353027),\n",
    "  (64, 0.9076287746429443),\n",
    "  (256, 2.091200828552246),\n",
    "  (1024, 12.386961698532104),\n",
    "  (4096, 143.29442524909973),\n",
    "  (16384, 2059.048469543457)],\n",
    " [(4, 0.0021185874938964844),\n",
    "  (16, 0.040839433670043945),\n",
    "  (64, 0.8043391704559326),\n",
    "  (256, 2.0519208908081055),\n",
    "  (1024, 12.545969724655151),\n",
    "  (4096, 144.5771288871765),\n",
    "  (16384, 2061.0153675079346)]]"
   ]
  },
  {
   "cell_type": "code",
   "execution_count": 83,
   "metadata": {},
   "outputs": [],
   "source": [
    "simplex = [[4, 16, 64, 256, 1024, 4096, 16384],\n",
    " [0.01236166000366211,\n",
    "  0.046868324279785156,\n",
    "  0.8179008960723877,\n",
    "  2.2604267597198486,\n",
    "  12.494543552398682,\n",
    "  144.56210017204285,\n",
    "  2156.70179438591],\n",
    " [0.010070323944091797,\n",
    "  0.040194034576416016,\n",
    "  0.9248178005218506,\n",
    "  2.209834098815918,\n",
    "  12.179248094558716,\n",
    "  143.67370915412903,\n",
    "  2118.866837978363],\n",
    " [0.015622854232788086,\n",
    "  0.04686260223388672,\n",
    "  0.8256344795227051,\n",
    "  2.1602389812469482,\n",
    "  12.73680853843689,\n",
    "  143.63473534584045,\n",
    "  2047.4476535320282],\n",
    " [0.0,\n",
    "  0.04077935218811035,\n",
    "  0.9195899963378906,\n",
    "  1.9825420379638672,\n",
    "  12.039593935012817,\n",
    "  142.0642728805542,\n",
    "  2018.9497396945953],\n",
    " [0.010313987731933594,\n",
    "  0.07148504257202148,\n",
    "  0.8155932426452637,\n",
    "  2.071427583694458,\n",
    "  12.336865186691284,\n",
    "  139.42466163635254,\n",
    "  2050.340402364731],\n",
    " [0.010124683380126953,\n",
    "  0.030329227447509766,\n",
    "  0.9183640480041504,\n",
    "  2.0755138397216797,\n",
    "  12.547472476959229,\n",
    "  145.215660572052,\n",
    "  2067.395848274231],\n",
    " [0.015366554260253906,\n",
    "  0.031228303909301758,\n",
    "  0.8291316032409668,\n",
    "  2.1878323554992676,\n",
    "  11.971662998199463,\n",
    "  142.9147973060608,\n",
    "  2051.5637900829315],\n",
    " [0.008102655410766602,\n",
    "  0.06311821937561035,\n",
    "  0.916572093963623,\n",
    "  2.0815274715423584,\n",
    "  12.322733163833618,\n",
    "  143.38848209381104,\n",
    "  2045.8231728076935],\n",
    " [0.010090112686157227,\n",
    "  0.04037070274353027,\n",
    "  0.9076287746429443,\n",
    "  2.091200828552246,\n",
    "  12.386961698532104,\n",
    "  143.29442524909973,\n",
    "  2059.048469543457],\n",
    " [0.0021185874938964844,\n",
    "  0.040839433670043945,\n",
    "  0.8043391704559326,\n",
    "  2.0519208908081055,\n",
    "  12.545969724655151,\n",
    "  144.5771288871765,\n",
    "  2061.0153675079346]]"
   ]
  },
  {
   "cell_type": "code",
   "execution_count": 84,
   "metadata": {},
   "outputs": [],
   "source": [
    "simplex = np.asarray(simplex)"
   ]
  },
  {
   "cell_type": "code",
   "execution_count": 85,
   "metadata": {},
   "outputs": [],
   "source": [
    "simplex = simplex.T"
   ]
  },
  {
   "cell_type": "code",
   "execution_count": 86,
   "metadata": {
    "scrolled": true
   },
   "outputs": [
    {
     "data": {
      "text/plain": [
       "array([[4.00000000e+00, 1.23616600e-02, 1.00703239e-02, 1.56228542e-02,\n",
       "        0.00000000e+00, 1.03139877e-02, 1.01246834e-02, 1.53665543e-02,\n",
       "        8.10265541e-03, 1.00901127e-02, 2.11858749e-03],\n",
       "       [1.60000000e+01, 4.68683243e-02, 4.01940346e-02, 4.68626022e-02,\n",
       "        4.07793522e-02, 7.14850426e-02, 3.03292274e-02, 3.12283039e-02,\n",
       "        6.31182194e-02, 4.03707027e-02, 4.08394337e-02],\n",
       "       [6.40000000e+01, 8.17900896e-01, 9.24817801e-01, 8.25634480e-01,\n",
       "        9.19589996e-01, 8.15593243e-01, 9.18364048e-01, 8.29131603e-01,\n",
       "        9.16572094e-01, 9.07628775e-01, 8.04339170e-01],\n",
       "       [2.56000000e+02, 2.26042676e+00, 2.20983410e+00, 2.16023898e+00,\n",
       "        1.98254204e+00, 2.07142758e+00, 2.07551384e+00, 2.18783236e+00,\n",
       "        2.08152747e+00, 2.09120083e+00, 2.05192089e+00],\n",
       "       [1.02400000e+03, 1.24945436e+01, 1.21792481e+01, 1.27368085e+01,\n",
       "        1.20395939e+01, 1.23368652e+01, 1.25474725e+01, 1.19716630e+01,\n",
       "        1.23227332e+01, 1.23869617e+01, 1.25459697e+01],\n",
       "       [4.09600000e+03, 1.44562100e+02, 1.43673709e+02, 1.43634735e+02,\n",
       "        1.42064273e+02, 1.39424662e+02, 1.45215661e+02, 1.42914797e+02,\n",
       "        1.43388482e+02, 1.43294425e+02, 1.44577129e+02],\n",
       "       [1.63840000e+04, 2.15670179e+03, 2.11886684e+03, 2.04744765e+03,\n",
       "        2.01894974e+03, 2.05034040e+03, 2.06739585e+03, 2.05156379e+03,\n",
       "        2.04582317e+03, 2.05904847e+03, 2.06101537e+03]])"
      ]
     },
     "execution_count": 86,
     "metadata": {},
     "output_type": "execute_result"
    }
   ],
   "source": [
    "simplex"
   ]
  },
  {
   "cell_type": "code",
   "execution_count": 87,
   "metadata": {},
   "outputs": [],
   "source": [
    "np.savetxt('simplex_times_unif_rand.csv',simplex,'%.10f',delimiter=',')"
   ]
  },
  {
   "cell_type": "markdown",
   "metadata": {},
   "source": [
    "### Interior Point Method <a class=\"anchor\" id=\"interiorPoint\"></a>"
   ]
  },
  {
   "cell_type": "code",
   "execution_count": 6,
   "metadata": {},
   "outputs": [],
   "source": [
    "# varying size of R\n",
    "# runtimes1 = []\n",
    "# for i in range(10):\n",
    "#     times1 = []\n",
    "#     for n in range(1, 8):\n",
    "#         A = generate_R_uniform(-10,10,4**n)\n",
    "#         start = time.time()\n",
    "#         primalLinearProgOpt(A, meth='interior-point')\n",
    "#         dualLinearProgOpt(A, meth='interior-point')\n",
    "#         end = time.time()\n",
    "#         times1.append((4**n,end - start))\n",
    "#         A = None\n",
    "#     runtimes1.append(times1)"
   ]
  },
  {
   "cell_type": "code",
   "execution_count": 11,
   "metadata": {
    "scrolled": true
   },
   "outputs": [],
   "source": [
    "runtimes1.append(times1)"
   ]
  },
  {
   "cell_type": "code",
   "execution_count": 12,
   "metadata": {},
   "outputs": [
    {
     "data": {
      "text/plain": [
       "[[(4, 0.09372997283935547),\n",
       "  (16, 0.0065042972564697266),\n",
       "  (64, 0.031249046325683594),\n",
       "  (256, 0.06248664855957031),\n",
       "  (1024, 1.6223483085632324),\n",
       "  (4096, 65.39572215080261),\n",
       "  (16384, 3665.1102306842804)],\n",
       " [(4, 0.002108335494995117),\n",
       "  (16, 0.00809788703918457),\n",
       "  (64, 0.02013993263244629),\n",
       "  (256, 0.09068632125854492),\n",
       "  (1024, 1.4708421230316162),\n",
       "  (4096, 65.28821587562561),\n",
       "  (16384, 3689.3470005989075)],\n",
       " [(4, 0.0021076202392578125),\n",
       "  (16, 0.008085966110229492),\n",
       "  (64, 0.010016441345214844),\n",
       "  (256, 0.04835033416748047),\n",
       "  (1024, 1.2146522998809814),\n",
       "  (4096, 60.71471118927002),\n",
       "  (16384, 3614.5810105872424)]]"
      ]
     },
     "execution_count": 12,
     "metadata": {},
     "output_type": "execute_result"
    }
   ],
   "source": [
    "runtimes1"
   ]
  },
  {
   "cell_type": "code",
   "execution_count": null,
   "metadata": {},
   "outputs": [],
   "source": [
    "interior = [[4, 16, 64, 256, 1024, 4096, 16384],\n",
    "            [0.09372997283935547,\n",
    "  0.0065042972564697266,\n",
    "  0.031249046325683594,\n",
    "  0.06248664855957031,\n",
    "  1.6223483085632324,\n",
    "  65.39572215080261,\n",
    "  3665.1102306842804],\n",
    " [0.002108335494995117,\n",
    "  0.00809788703918457,\n",
    "  0.02013993263244629,\n",
    "  0.09068632125854492,\n",
    "  1.4708421230316162,\n",
    "  65.28821587562561,\n",
    "  3689.3470005989075],\n",
    " [0.0021076202392578125,\n",
    "  0.008085966110229492,\n",
    "  0.010016441345214844,\n",
    "  0.04835033416748047,\n",
    "  1.2146522998809814,\n",
    "  60.71471118927002,\n",
    "  3614.5810105872424]"
   ]
  }
 ],
 "metadata": {
  "@webio": {
   "lastCommId": null,
   "lastKernelId": null
  },
  "kernelspec": {
   "display_name": "Python 3",
   "language": "python",
   "name": "python3"
  },
  "language_info": {
   "codemirror_mode": {
    "name": "ipython",
    "version": 3
   },
   "file_extension": ".py",
   "mimetype": "text/x-python",
   "name": "python",
   "nbconvert_exporter": "python",
   "pygments_lexer": "ipython3",
   "version": "3.8.8"
  }
 },
 "nbformat": 4,
 "nbformat_minor": 4
}
