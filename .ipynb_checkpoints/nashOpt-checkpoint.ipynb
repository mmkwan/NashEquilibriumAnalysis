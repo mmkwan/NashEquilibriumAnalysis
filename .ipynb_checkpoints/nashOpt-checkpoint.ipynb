{
 "cells": [
  {
   "cell_type": "code",
   "execution_count": 1,
   "metadata": {},
   "outputs": [
    {
     "data": {
      "text/plain": [
       "'\\nCreated on Wed Dec  1 15:34:54 2021\\n\\n@author: p4u1\\n'"
      ]
     },
     "execution_count": 1,
     "metadata": {},
     "output_type": "execute_result"
    }
   ],
   "source": [
    "# -*- coding: utf-8 -*-\n",
    "\"\"\"\n",
    "Created on Wed Dec  1 15:34:54 2021\n",
    "\n",
    "@author: p4u1\n",
    "\"\"\""
   ]
  },
  {
   "cell_type": "code",
   "execution_count": 2,
   "metadata": {},
   "outputs": [],
   "source": [
    "import numpy as np\n",
    "import scipy.optimize as opt"
   ]
  },
  {
   "cell_type": "code",
   "execution_count": 11,
   "metadata": {},
   "outputs": [],
   "source": [
    "def primalLinearProgOpt(A, meth = 'simplex'):\n",
    "    \"\"\" Wrapper function to get primal optimization results\n",
    "        Uses scipy.optimize.linprog method\n",
    "    \n",
    "    Arguments:  A - square n x n payoff matrix (must be ndarray)\n",
    "                n - size of matrix A\n",
    "                method - linear programming method to use\n",
    "                \n",
    "    Returns:    Optimization variable values\n",
    "                Objective function value\"\"\"\n",
    "\n",
    "    # Objective function coefficents\n",
    "    n = len(A)\n",
    "    c0 = [0 for i in range(n)]\n",
    "    c0.append(-1)\n",
    "    c0 = np.array(c0)\n",
    "    \n",
    "    # Inequality contraints\n",
    "    a = np.ones((n,1))\n",
    "    A_u = np.concatenate((-(A.T), a), axis = 1)\n",
    "    b_u = np.zeros(n)\n",
    "    \n",
    "    # Equality contraints\n",
    "    A_e = [1 for i in range(n)]\n",
    "    A_e.append(0)\n",
    "    A_e = np.array(A_e)\n",
    "    A_e = A_e.reshape((1,n+1))\n",
    "    b_e = np.array(1)\n",
    "    \n",
    "    # Bounds\n",
    "    bound = [(0, None) for i in range(n)]\n",
    "    bound.append((None,None))\n",
    "    \n",
    "    # Run scipy.optimize.linprog method\n",
    "    results = opt.linprog(c=c0,\n",
    "                          A_ub=A_u, b_ub=b_u,\n",
    "                          A_eq=A_e, b_eq=b_e,\n",
    "                          bounds=bound, \n",
    "                          method=meth)\n",
    "    \n",
    "    return results.x\n",
    "\n",
    "# Test area\n",
    "# A = np.array([[0,-1,1],[1,0,-1],[-1,1,0]])\n",
    "# n = 3\n",
    "\n",
    "# resultsPrimal = primalLinearProgOpt(A, n, 'interior-point')\n",
    "# resultsDual = dualLinearProgOpt(A, n)"
   ]
  },
  {
   "cell_type": "code",
   "execution_count": 12,
   "metadata": {},
   "outputs": [],
   "source": [
    "def dualLinearProgOpt(A, meth = 'simplex'):\n",
    "    \"\"\" Wrapper function to get dual optimization results\n",
    "        Uses scipy.optimize.linprog method\n",
    "    \n",
    "    Arguments:  A - square n x n payoff matrix (must be ndarray)\n",
    "                n - size of matrix A\n",
    "                method - linear programming method to use\n",
    "                \n",
    "    Returns:    Optimization variable values\"\"\"\n",
    "\n",
    "    # Objective function coefficents\n",
    "    n = len(A)\n",
    "    c0 = [0 for i in range(n)]\n",
    "    c0.append(1)\n",
    "    c0 = np.array(c0)\n",
    "    \n",
    "    # Inequality contraints\n",
    "    a = np.ones((n,1))\n",
    "    A_u = np.concatenate((A, -a), axis = 1)\n",
    "    b_u = np.zeros(n)\n",
    "    \n",
    "    # Equality contraints\n",
    "    A_e = [1 for i in range(n)]\n",
    "    A_e.append(0)\n",
    "    A_e = np.array(A_e)\n",
    "    A_e = A_e.reshape((1,n+1))\n",
    "    b_e = np.array(1)\n",
    "    \n",
    "    # Bounds\n",
    "    bound = [(0, None) for i in range(n)]\n",
    "    bound.append((None,None))\n",
    "    \n",
    "    # Run scipy.optimize.linprog method\n",
    "    results = opt.linprog(c=c0,\n",
    "                          A_ub=A_u, b_ub=b_u,\n",
    "                          A_eq=A_e, b_eq=b_e,\n",
    "                          bounds=bound, \n",
    "                          method=meth)\n",
    "    \n",
    "    return results.x"
   ]
  },
  {
   "cell_type": "code",
   "execution_count": 13,
   "metadata": {},
   "outputs": [],
   "source": [
    "import time\n",
    "%run util_matrix_generators.ipynb"
   ]
  },
  {
   "cell_type": "code",
   "execution_count": 38,
   "metadata": {},
   "outputs": [],
   "source": [
    "# varying size of R\n",
    "times = []\n",
    "for n in range(1, 50):\n",
    "    start = time.time()\n",
    "    A = generate_R_random(-1, 1, n)\n",
    "    primalLinearProgOpt(A)\n",
    "    end = time.time()\n",
    "    times.append(end - start)"
   ]
  },
  {
   "cell_type": "code",
   "execution_count": 39,
   "metadata": {},
   "outputs": [
    {
     "data": {
      "text/plain": [
       "[0.0036766529083251953,\n",
       " 0.007927894592285156,\n",
       " 0.011114835739135742,\n",
       " 0.006516695022583008,\n",
       " 0.011525630950927734,\n",
       " 0.015395641326904297,\n",
       " 0.012391328811645508,\n",
       " 0.031010866165161133,\n",
       " 0.023896217346191406,\n",
       " 0.017333269119262695,\n",
       " 0.03513669967651367,\n",
       " 0.0329287052154541,\n",
       " 0.030365467071533203,\n",
       " 0.033251285552978516,\n",
       " 0.052063703536987305,\n",
       " 0.048444509506225586,\n",
       " 0.035195112228393555,\n",
       " 0.05697154998779297,\n",
       " 0.09286713600158691,\n",
       " 0.0685732364654541,\n",
       " 0.08656620979309082,\n",
       " 0.06817221641540527,\n",
       " 0.07859635353088379,\n",
       " 0.11570978164672852,\n",
       " 0.09819507598876953,\n",
       " 0.10218620300292969,\n",
       " 0.19157624244689941,\n",
       " 0.2803831100463867,\n",
       " 0.21387100219726562,\n",
       " 0.36679697036743164,\n",
       " 0.23112797737121582,\n",
       " 0.21857404708862305,\n",
       " 0.26198434829711914,\n",
       " 0.15084409713745117,\n",
       " 0.2710561752319336,\n",
       " 0.19897961616516113,\n",
       " 0.2357330322265625,\n",
       " 0.5810248851776123,\n",
       " 0.43442678451538086,\n",
       " 0.34744834899902344,\n",
       " 0.2853584289550781,\n",
       " 0.33283329010009766,\n",
       " 0.4007151126861572,\n",
       " 0.8820540904998779,\n",
       " 0.45624518394470215,\n",
       " 0.8637909889221191,\n",
       " 0.5633618831634521,\n",
       " 0.5144236087799072,\n",
       " 0.8716566562652588]"
      ]
     },
     "execution_count": 39,
     "metadata": {},
     "output_type": "execute_result"
    }
   ],
   "source": [
    "times"
   ]
  },
  {
   "cell_type": "markdown",
   "metadata": {},
   "source": [
    "Phase 1 of the simplex method failed to find a feasible solution. The pseudo-objective function evaluates to 3.4e-01 which exceeds the required tolerance of 1e-09 for a solution to be considered 'close enough' to zero to be a basic solution. Consider increasing the tolerance to be greater than 3.4e-01. If this tolerance is unacceptably  large the problem may be infeasible."
   ]
  },
  {
   "cell_type": "code",
   "execution_count": null,
   "metadata": {},
   "outputs": [],
   "source": []
  }
 ],
 "metadata": {
  "kernelspec": {
   "display_name": "Python 3",
   "language": "python",
   "name": "python3"
  },
  "language_info": {
   "codemirror_mode": {
    "name": "ipython",
    "version": 3
   },
   "file_extension": ".py",
   "mimetype": "text/x-python",
   "name": "python",
   "nbconvert_exporter": "python",
   "pygments_lexer": "ipython3",
   "version": "3.7.4"
  }
 },
 "nbformat": 4,
 "nbformat_minor": 4
}
