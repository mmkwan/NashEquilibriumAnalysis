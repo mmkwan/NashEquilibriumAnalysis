{
 "cells": [
  {
   "cell_type": "code",
   "execution_count": 1,
   "metadata": {},
   "outputs": [
    {
     "data": {
      "text/plain": [
       "'\\nCreated on Wed Dec  1 15:34:54 2021\\n\\n@author: p4u1\\n'"
      ]
     },
     "execution_count": 1,
     "metadata": {},
     "output_type": "execute_result"
    }
   ],
   "source": [
    "# -*- coding: utf-8 -*-\n",
    "\"\"\"\n",
    "Created on Wed Dec  1 15:34:54 2021\n",
    "\n",
    "@author: p4u1\n",
    "\"\"\""
   ]
  },
  {
   "cell_type": "markdown",
   "metadata": {},
   "source": [
    "# Table of Contents\n",
    "\n",
    "* [Optimization functions](#functions)\n",
    "* [Testing](#test)\n",
    "    * [Simplex](#simplex)\n",
    "        * [Primal Form](#primal)\n",
    "        * [Dual Form](#dual)\n",
    "    * [Interior Point](#interiorPoint)\n",
    "        * [Primal Form](#primal2)\n",
    "        * [Dual Form](#dual2)\n",
    "* [Error Messages](#error)"
   ]
  },
  {
   "cell_type": "markdown",
   "metadata": {},
   "source": [
    "## Optimization functions <a class=\"anchor\" id=\"functions\"></a>"
   ]
  },
  {
   "cell_type": "code",
   "execution_count": 2,
   "metadata": {},
   "outputs": [],
   "source": [
    "import numpy as np\n",
    "import scipy.optimize as opt"
   ]
  },
  {
   "cell_type": "code",
   "execution_count": 3,
   "metadata": {},
   "outputs": [],
   "source": [
    "def primalLinearProgOpt(A, meth = 'simplex', tol=1e-9):\n",
    "    \"\"\" Wrapper function to get primal optimization results\n",
    "        Uses scipy.optimize.linprog method\n",
    "    \n",
    "    Arguments:  A - square n x n payoff matrix (must be ndarray)\n",
    "                n - size of matrix A\n",
    "                method - linear programming method to use\n",
    "                \n",
    "    Returns:    Optimization variable values\n",
    "                Objective function value\"\"\"\n",
    "\n",
    "    # Objective function coefficents\n",
    "    n = len(A)\n",
    "    c0 = [0 for i in range(n)]\n",
    "    c0.append(-1)\n",
    "    c0 = np.array(c0)\n",
    "    \n",
    "    # Inequality contraints\n",
    "    a = np.ones((n,1))\n",
    "    A_u = np.concatenate((-(A.T), a), axis = 1)\n",
    "    b_u = np.zeros(n)\n",
    "    \n",
    "    # Equality contraints\n",
    "    A_e = [1 for i in range(n)]\n",
    "    A_e.append(0)\n",
    "    A_e = np.array(A_e)\n",
    "    A_e = A_e.reshape((1,n+1))\n",
    "    b_e = np.array(1)\n",
    "    \n",
    "    # Bounds\n",
    "    bound = [(0, None) for i in range(n)]\n",
    "    bound.append((None,None))\n",
    "    \n",
    "    # Run scipy.optimize.linprog method\n",
    "    results = opt.linprog(c=c0,\n",
    "                          A_ub=A_u, b_ub=b_u,\n",
    "                          A_eq=A_e, b_eq=b_e,\n",
    "                          bounds=bound, \n",
    "                          method=meth,\n",
    "                          options = {'tol':tol})\n",
    "    \n",
    "    return results.x\n",
    "\n",
    "# Test area\n",
    "# A = np.array([[0,-1,1],[1,0,-1],[-1,1,0]])\n",
    "# n = 3\n",
    "\n",
    "# resultsPrimal = primalLinearProgOpt(A, n, 'interior-point')\n",
    "# resultsDual = dualLinearProgOpt(A, n)"
   ]
  },
  {
   "cell_type": "code",
   "execution_count": 4,
   "metadata": {},
   "outputs": [],
   "source": [
    "def dualLinearProgOpt(A, meth='simplex', tol=1e-9):\n",
    "    \"\"\" Wrapper function to get dual optimization results\n",
    "        Uses scipy.optimize.linprog method\n",
    "    \n",
    "    Arguments:  A - square n x n payoff matrix (must be ndarray)\n",
    "                n - size of matrix A\n",
    "                method - linear programming method to use\n",
    "                \n",
    "    Returns:    Optimization variable values\"\"\"\n",
    "\n",
    "    # Objective function coefficents\n",
    "    n = len(A)\n",
    "    c0 = [0 for i in range(n)]\n",
    "    c0.append(1)\n",
    "    c0 = np.array(c0)\n",
    "    \n",
    "    # Inequality contraints\n",
    "    a = np.ones((n,1))\n",
    "    A_u = np.concatenate((A, -a), axis = 1)\n",
    "    b_u = np.zeros(n)\n",
    "    \n",
    "    # Equality contraints\n",
    "    A_e = [1 for i in range(n)]\n",
    "    A_e.append(0)\n",
    "    A_e = np.array(A_e)\n",
    "    A_e = A_e.reshape((1,n+1))\n",
    "    b_e = np.array(1)\n",
    "    \n",
    "    # Bounds\n",
    "    bound = [(0, None) for i in range(n)]\n",
    "    bound.append((None,None))\n",
    "    \n",
    "    # Run scipy.optimize.linprog method\n",
    "    results = opt.linprog(c=c0,\n",
    "                          A_ub=A_u, b_ub=b_u,\n",
    "                          A_eq=A_e, b_eq=b_e,\n",
    "                          bounds=bound, \n",
    "                          method=meth,\n",
    "                          options={'tol':tol})\n",
    "    \n",
    "    return results.x"
   ]
  },
  {
   "cell_type": "markdown",
   "metadata": {},
   "source": [
    "## Testing <a class=\"anchor\" id=\"test\"></a>"
   ]
  },
  {
   "cell_type": "code",
   "execution_count": 5,
   "metadata": {},
   "outputs": [],
   "source": [
    "import time\n",
    "%run util_matrix_generators.ipynb"
   ]
  },
  {
   "cell_type": "markdown",
   "metadata": {},
   "source": [
    "### Simplex Method <a class=\"anchor\" id=\"simplex\"></a>"
   ]
  },
  {
   "cell_type": "markdown",
   "metadata": {},
   "source": [
    "#### Primal Form <a class=\"anchor\" id=\"primal\"></a>"
   ]
  },
  {
   "cell_type": "code",
   "execution_count": 19,
   "metadata": {},
   "outputs": [
    {
     "name": "stderr",
     "output_type": "stream",
     "text": [
      "c:\\users\\sshim\\appdata\\local\\programs\\python\\python37\\lib\\site-packages\\ipykernel_launcher.py:40: OptimizeWarning: The pivot operation produces a pivot value of: 7.8e-06, which is only slightly greater than the specified tolerance 1.0e-09. This may lead to issues regarding the numerical stability of the simplex method. Removing redundant constraints, changing the pivot strategy via Bland's rule or increasing the tolerance may help reduce the issue.\n",
      "c:\\users\\sshim\\appdata\\local\\programs\\python\\python37\\lib\\site-packages\\ipykernel_launcher.py:40: OptimizeWarning: The pivot operation produces a pivot value of: 9.6e-06, which is only slightly greater than the specified tolerance 1.0e-09. This may lead to issues regarding the numerical stability of the simplex method. Removing redundant constraints, changing the pivot strategy via Bland's rule or increasing the tolerance may help reduce the issue.\n"
     ]
    }
   ],
   "source": [
    "# varying size of R\n",
    "times = []\n",
    "for n in range(1, 300, 10):\n",
    "    A = generate_R_uniform2(100, 200, n)\n",
    "    start = time.time()\n",
    "    primalLinearProgOpt(A)\n",
    "    end = time.time()\n",
    "    times.append(end - start)"
   ]
  },
  {
   "cell_type": "code",
   "execution_count": 17,
   "metadata": {},
   "outputs": [
    {
     "data": {
      "text/plain": [
       "[0.001962900161743164,\n",
       " 0.024590015411376953,\n",
       " 0.08903264999389648,\n",
       " 0.1343059539794922,\n",
       " 0.41256070137023926,\n",
       " 0.4614086151123047,\n",
       " 0.4819817543029785,\n",
       " 0.5792291164398193,\n",
       " 0.9858348369598389,\n",
       " 0.5828876495361328,\n",
       " 0.6237852573394775,\n",
       " 0.6460206508636475,\n",
       " 0.7052896022796631,\n",
       " 0.773726224899292,\n",
       " 0.9652533531188965,\n",
       " 1.4024240970611572,\n",
       " 0.8910093307495117,\n",
       " 0.9560041427612305,\n",
       " 1.0096931457519531,\n",
       " 1.249009370803833]"
      ]
     },
     "execution_count": 17,
     "metadata": {},
     "output_type": "execute_result"
    }
   ],
   "source": [
    "times"
   ]
  },
  {
   "cell_type": "markdown",
   "metadata": {},
   "source": [
    "#### Dual Form <a class=\"anchor\" id=\"dual\"></a>"
   ]
  },
  {
   "cell_type": "markdown",
   "metadata": {},
   "source": [
    "### Interior Point Method <a class=\"anchor\" id=\"interiorPoint\"></a>"
   ]
  },
  {
   "cell_type": "markdown",
   "metadata": {},
   "source": [
    "#### Primal Form <a class=\"anchor\" id=\"primal2\"></a>"
   ]
  },
  {
   "cell_type": "code",
   "execution_count": 12,
   "metadata": {},
   "outputs": [],
   "source": [
    "# varying size of R\n",
    "interior_primal_times = []\n",
    "n = 1\n",
    "while n < 1000:\n",
    "    times = []\n",
    "    for i in range(10):\n",
    "        A = generate_R_uniform(-10, 10, n)\n",
    "        start = time.time()\n",
    "        primalLinearProgOpt(A, meth='interior-point')\n",
    "        end = time.time()\n",
    "        times.append(end-start)\n",
    "    interior_primal_times.append((n, np.mean(times)))\n",
    "    n *= 2"
   ]
  },
  {
   "cell_type": "code",
   "execution_count": 13,
   "metadata": {},
   "outputs": [],
   "source": [
    "file = open('interior_primal_times.txt', 'w')\n",
    "file.write(str(interior_primal_times))\n",
    "file.close()\n",
    "\n",
    "# file = open('interior_primal_times.txt', 'r')\n",
    "# times2 = file.read()\n",
    "# file.close"
   ]
  },
  {
   "cell_type": "markdown",
   "metadata": {},
   "source": [
    "#### Dual Form <a class=\"anchor\" id=\"dual2\"></a>"
   ]
  },
  {
   "cell_type": "code",
   "execution_count": 14,
   "metadata": {},
   "outputs": [],
   "source": [
    "# varying size of R\n",
    "interior_dual_times = []\n",
    "n = 1\n",
    "while n < 1000:\n",
    "    times = []\n",
    "    for i in range(10):\n",
    "        A = generate_R_uniform(-10, 10, n)\n",
    "        start = time.time()\n",
    "        dualLinearProgOpt(A, meth='interior-point')\n",
    "        end = time.time()\n",
    "        times.append(end-start)\n",
    "    interior_dual_times.append((n, np.mean(times)))\n",
    "    n *= 2"
   ]
  },
  {
   "cell_type": "code",
   "execution_count": 15,
   "metadata": {},
   "outputs": [],
   "source": [
    "file = open('interior_dual_times.txt', 'w')\n",
    "file.write(str(interior_dual_times))\n",
    "file.close()\n",
    "\n",
    "# file = open('interior_dual_times.txt', 'r')\n",
    "# times2 = file.read()\n",
    "# file.close"
   ]
  },
  {
   "cell_type": "code",
   "execution_count": 80,
   "metadata": {},
   "outputs": [
    {
     "data": {
      "text/plain": [
       "'[(1, 0.0020101070404052734), (100, 0.017882823944091797), (200, 0.04781627655029297), (300, 0.08495903015136719), (400, 0.16666555404663086), (500, 0.2914552688598633), (600, 0.42180562019348145), (700, 0.7060284614562988), (800, 0.9646656513214111), (900, 1.209805965423584), (1000, 1.890902042388916), (1100, 2.2302403450012207), (1200, 3.093191623687744), (1300, 3.9851763248443604), (1400, 4.560537099838257), (1500, 6.072098970413208), (1600, 13.107242345809937), (1700, 15.38206958770752), (1800, 16.33038568496704), (1900, 20.210949659347534), (2000, 21.570293426513672), (2100, 26.979156017303467), (2200, 31.0743088722229), (2300, 33.86396765708923), (2400, 35.6103241443634), (2500, 41.12813663482666), (2600, 45.29458951950073), (2700, 50.71218752861023), (2800, 55.60111451148987), (2900, 62.488285779953), (3000, 71.43944907188416), (3100, 83.61240267753601), (3200, 84.91663265228271), (3300, 89.61718344688416), (3400, 97.50626873970032), (3500, 112.08613157272339), (3600, 119.24434089660645), (3700, 136.95182633399963), (3800, 141.61139631271362), (3900, 143.29446053504944), (4000, 750.7450716495514)]'"
      ]
     },
     "execution_count": 80,
     "metadata": {},
     "output_type": "execute_result"
    }
   ],
   "source": [
    "times2"
   ]
  },
  {
   "cell_type": "markdown",
   "metadata": {},
   "source": [
    "## Error Messages <a class=\"anchor\" id=\"error\"></a>"
   ]
  },
  {
   "cell_type": "markdown",
   "metadata": {},
   "source": [
    "#### Simplex Method past 60x60 size R (both primal and dual), using generate_R_uniform(-1, 1, n)"
   ]
  },
  {
   "cell_type": "markdown",
   "metadata": {},
   "source": [
    "Phase 1 of the simplex method failed to find a feasible solution. The pseudo-objective function evaluates to 3.4e-01 which exceeds the required tolerance of 1e-09 for a solution to be considered 'close enough' to zero to be a basic solution. Consider increasing the tolerance to be greater than 3.4e-01. If this tolerance is unacceptably large the problem may be infeasible"
   ]
  },
  {
   "cell_type": "code",
   "execution_count": 18,
   "metadata": {},
   "outputs": [
    {
     "data": {
      "text/plain": [
       "array([[   0.        , -156.21071933, -101.75566897,  134.40988703,\n",
       "        -168.32691167],\n",
       "       [ 156.21071933,    0.        , -113.53193802, -133.90547443,\n",
       "         197.73066495],\n",
       "       [ 101.75566897,  113.53193802,    0.        ,  157.29800504,\n",
       "        -196.91065927],\n",
       "       [-134.40988703,  133.90547443, -157.29800504,    0.        ,\n",
       "        -182.39965829],\n",
       "       [ 168.32691167, -197.73066495,  196.91065927,  182.39965829,\n",
       "           0.        ]])"
      ]
     },
     "execution_count": 18,
     "metadata": {},
     "output_type": "execute_result"
    }
   ],
   "source": [
    "generate_R_uniform2(100, 200, 5)"
   ]
  },
  {
   "cell_type": "code",
   "execution_count": null,
   "metadata": {},
   "outputs": [],
   "source": []
  }
 ],
 "metadata": {
  "kernelspec": {
   "display_name": "Python 3",
   "language": "python",
   "name": "python3"
  },
  "language_info": {
   "codemirror_mode": {
    "name": "ipython",
    "version": 3
   },
   "file_extension": ".py",
   "mimetype": "text/x-python",
   "name": "python",
   "nbconvert_exporter": "python",
   "pygments_lexer": "ipython3",
   "version": "3.8.8"
  }
 },
 "nbformat": 4,
 "nbformat_minor": 4
}
