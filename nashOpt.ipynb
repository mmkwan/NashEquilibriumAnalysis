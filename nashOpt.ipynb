{
 "cells": [
  {
   "cell_type": "code",
   "execution_count": 1,
   "metadata": {},
   "outputs": [
    {
     "data": {
      "text/plain": [
       "'\\nCreated on Wed Dec  1 15:34:54 2021\\n\\n@author: p4u1\\n'"
      ]
     },
     "execution_count": 1,
     "metadata": {},
     "output_type": "execute_result"
    }
   ],
   "source": [
    "# -*- coding: utf-8 -*-\n",
    "\"\"\"\n",
    "Created on Wed Dec  1 15:34:54 2021\n",
    "\n",
    "@author: p4u1\n",
    "\"\"\""
   ]
  },
  {
   "cell_type": "markdown",
   "metadata": {},
   "source": [
    "# Table of Contents\n",
    "\n",
    "* [Optimization functions](#functions)\n",
    "* [Testing](#test)\n",
    "    * [Primal Form](#primal)\n",
    "    * [Dual Form](#dual)"
   ]
  },
  {
   "cell_type": "markdown",
   "metadata": {},
   "source": [
    "## Optimization functions <a class=\"anchor\" id=\"functions\"></a>"
   ]
  },
  {
   "cell_type": "code",
   "execution_count": 2,
   "metadata": {},
   "outputs": [],
   "source": [
    "import numpy as np\n",
    "import scipy.optimize as opt"
   ]
  },
  {
   "cell_type": "code",
   "execution_count": 3,
   "metadata": {},
   "outputs": [],
   "source": [
    "def primalLinearProgOpt(A, meth = 'simplex'):\n",
    "    \"\"\" Wrapper function to get primal optimization results\n",
    "        Uses scipy.optimize.linprog method\n",
    "    \n",
    "    Arguments:  A - square n x n payoff matrix (must be ndarray)\n",
    "                n - size of matrix A\n",
    "                method - linear programming method to use\n",
    "                \n",
    "    Returns:    Optimization variable values\n",
    "                Objective function value\"\"\"\n",
    "\n",
    "    # Objective function coefficents\n",
    "    n = len(A)\n",
    "    c0 = [0 for i in range(n)]\n",
    "    c0.append(-1)\n",
    "    c0 = np.array(c0)\n",
    "    \n",
    "    # Inequality contraints\n",
    "    a = np.ones((n,1))\n",
    "    A_u = np.concatenate((-(A.T), a), axis = 1)\n",
    "    b_u = np.zeros(n)\n",
    "    \n",
    "    # Equality contraints\n",
    "    A_e = [1 for i in range(n)]\n",
    "    A_e.append(0)\n",
    "    A_e = np.array(A_e)\n",
    "    A_e = A_e.reshape((1,n+1))\n",
    "    b_e = np.array(1)\n",
    "    \n",
    "    # Bounds\n",
    "    bound = [(0, None) for i in range(n)]\n",
    "    bound.append((None,None))\n",
    "    \n",
    "    # Run scipy.optimize.linprog method\n",
    "    results = opt.linprog(c=c0,\n",
    "                          A_ub=A_u, b_ub=b_u,\n",
    "                          A_eq=A_e, b_eq=b_e,\n",
    "                          bounds=bound, \n",
    "                          method=meth)\n",
    "    \n",
    "    return results.x\n",
    "\n",
    "# Test area\n",
    "# A = np.array([[0,-1,1],[1,0,-1],[-1,1,0]])\n",
    "# n = 3\n",
    "\n",
    "# resultsPrimal = primalLinearProgOpt(A, n, 'interior-point')\n",
    "# resultsDual = dualLinearProgOpt(A, n)"
   ]
  },
  {
   "cell_type": "code",
   "execution_count": 4,
   "metadata": {},
   "outputs": [],
   "source": [
    "def dualLinearProgOpt(A, meth = 'simplex'):\n",
    "    \"\"\" Wrapper function to get dual optimization results\n",
    "        Uses scipy.optimize.linprog method\n",
    "    \n",
    "    Arguments:  A - square n x n payoff matrix (must be ndarray)\n",
    "                n - size of matrix A\n",
    "                method - linear programming method to use\n",
    "                \n",
    "    Returns:    Optimization variable values\"\"\"\n",
    "\n",
    "    # Objective function coefficents\n",
    "    n = len(A)\n",
    "    c0 = [0 for i in range(n)]\n",
    "    c0.append(1)\n",
    "    c0 = np.array(c0)\n",
    "    \n",
    "    # Inequality contraints\n",
    "    a = np.ones((n,1))\n",
    "    A_u = np.concatenate((A, -a), axis = 1)\n",
    "    b_u = np.zeros(n)\n",
    "    \n",
    "    # Equality contraints\n",
    "    A_e = [1 for i in range(n)]\n",
    "    A_e.append(0)\n",
    "    A_e = np.array(A_e)\n",
    "    A_e = A_e.reshape((1,n+1))\n",
    "    b_e = np.array(1)\n",
    "    \n",
    "    # Bounds\n",
    "    bound = [(0, None) for i in range(n)]\n",
    "    bound.append((None,None))\n",
    "    \n",
    "    # Run scipy.optimize.linprog method\n",
    "    results = opt.linprog(c=c0,\n",
    "                          A_ub=A_u, b_ub=b_u,\n",
    "                          A_eq=A_e, b_eq=b_e,\n",
    "                          bounds=bound, \n",
    "                          method=meth)\n",
    "    \n",
    "    return results.x"
   ]
  },
  {
   "cell_type": "markdown",
   "metadata": {},
   "source": [
    "## Testing <a class=\"anchor\" id=\"test\"></a>"
   ]
  },
  {
   "cell_type": "code",
   "execution_count": 5,
   "metadata": {},
   "outputs": [],
   "source": [
    "import time\n",
    "%run util_matrix_generators.ipynb"
   ]
  },
  {
   "cell_type": "markdown",
   "metadata": {},
   "source": [
    "### Primal Form <a class=\"anchor\" id=\"primal\"></a>"
   ]
  },
  {
   "cell_type": "code",
   "execution_count": 6,
   "metadata": {},
   "outputs": [],
   "source": [
    "# varying size of R\n",
    "times = []\n",
    "for n in range(1, 50):\n",
    "    start = time.time()\n",
    "    A = generate_R_random(-1, 1, n)\n",
    "    primalLinearProgOpt(A)\n",
    "    end = time.time()\n",
    "    times.append(end - start)"
   ]
  },
  {
   "cell_type": "code",
   "execution_count": 7,
   "metadata": {},
   "outputs": [
    {
     "data": {
      "text/plain": [
       "[0.001020669937133789,\n",
       " 0.008410453796386719,\n",
       " 0.002061128616333008,\n",
       " 0.0019948482513427734,\n",
       " 0.00498652458190918,\n",
       " 0.005064487457275391,\n",
       " 0.007978200912475586,\n",
       " 0.007050275802612305,\n",
       " 0.005051851272583008,\n",
       " 0.008909940719604492,\n",
       " 0.011040925979614258,\n",
       " 0.009071111679077148,\n",
       " 0.01307368278503418,\n",
       " 0.01932978630065918,\n",
       " 0.017299175262451172,\n",
       " 0.020124435424804688,\n",
       " 0.017004728317260742,\n",
       " 0.021099328994750977,\n",
       " 0.032701730728149414,\n",
       " 0.026144027709960938,\n",
       " 0.030055761337280273,\n",
       " 0.029020309448242188,\n",
       " 0.03615140914916992,\n",
       " 0.04618525505065918,\n",
       " 0.042706966400146484,\n",
       " 0.04118490219116211,\n",
       " 0.050852060317993164,\n",
       " 0.04743194580078125,\n",
       " 0.05255532264709473,\n",
       " 0.04767751693725586,\n",
       " 0.08698368072509766,\n",
       " 0.0581514835357666,\n",
       " 0.06038975715637207,\n",
       " 0.07657504081726074,\n",
       " 0.09611725807189941,\n",
       " 0.0869145393371582,\n",
       " 0.08200550079345703,\n",
       " 0.12901520729064941,\n",
       " 0.1893923282623291,\n",
       " 0.13660216331481934,\n",
       " 0.1201024055480957,\n",
       " 0.25017762184143066,\n",
       " 0.1360175609588623,\n",
       " 0.2256007194519043,\n",
       " 0.1943953037261963,\n",
       " 0.12104058265686035,\n",
       " 0.22188735008239746,\n",
       " 0.16974520683288574,\n",
       " 0.18746709823608398]"
      ]
     },
     "execution_count": 7,
     "metadata": {},
     "output_type": "execute_result"
    }
   ],
   "source": [
    "times"
   ]
  },
  {
   "cell_type": "markdown",
   "metadata": {},
   "source": [
    "### Error past size of 50x50 R"
   ]
  },
  {
   "cell_type": "markdown",
   "metadata": {},
   "source": [
    "Phase 1 of the simplex method failed to find a feasible solution. The pseudo-objective function evaluates to 3.4e-01 which exceeds the required tolerance of 1e-09 for a solution to be considered 'close enough' to zero to be a basic solution. Consider increasing the tolerance to be greater than 3.4e-01. If this tolerance is unacceptably  large the problem may be infeasible."
   ]
  },
  {
   "cell_type": "markdown",
   "metadata": {},
   "source": [
    "### Dual Form <a class=\"anchor\" id=\"dual\"></a>"
   ]
  },
  {
   "cell_type": "code",
   "execution_count": 8,
   "metadata": {},
   "outputs": [],
   "source": [
    "# varying size of R\n",
    "times = []\n",
    "for n in range(1, 50):\n",
    "    start = time.time()\n",
    "    A = generate_R_random(-1, 1, n)\n",
    "    dualLinearProgOpt(A)\n",
    "    end = time.time()\n",
    "    times.append(end - start)"
   ]
  },
  {
   "cell_type": "code",
   "execution_count": 9,
   "metadata": {},
   "outputs": [
    {
     "data": {
      "text/plain": [
       "[0.001950979232788086,\n",
       " 0.010168790817260742,\n",
       " 0.007123708724975586,\n",
       " 0.006040334701538086,\n",
       " 0.009012699127197266,\n",
       " 0.0060727596282958984,\n",
       " 0.0059490203857421875,\n",
       " 0.005021810531616211,\n",
       " 0.006985664367675781,\n",
       " 0.009978294372558594,\n",
       " 0.007975339889526367,\n",
       " 0.011018991470336914,\n",
       " 0.016089916229248047,\n",
       " 0.017085552215576172,\n",
       " 0.015104293823242188,\n",
       " 0.01303720474243164,\n",
       " 0.01613903045654297,\n",
       " 0.01702427864074707,\n",
       " 0.02126598358154297,\n",
       " 0.03913569450378418,\n",
       " 0.01908278465270996,\n",
       " 0.027182817459106445,\n",
       " 0.031151771545410156,\n",
       " 0.0381777286529541,\n",
       " 0.041054725646972656,\n",
       " 0.04923081398010254,\n",
       " 0.04321718215942383,\n",
       " 0.060307979583740234,\n",
       " 0.05571460723876953,\n",
       " 0.06333065032958984,\n",
       " 0.08432531356811523,\n",
       " 0.06445813179016113,\n",
       " 0.054067134857177734,\n",
       " 0.07133150100708008,\n",
       " 0.07128262519836426,\n",
       " 0.10227155685424805,\n",
       " 0.09746074676513672,\n",
       " 0.144547700881958,\n",
       " 0.13781046867370605,\n",
       " 0.14876961708068848,\n",
       " 0.23173856735229492,\n",
       " 0.12061810493469238,\n",
       " 0.1360759735107422,\n",
       " 0.10707664489746094,\n",
       " 0.1297600269317627,\n",
       " 0.4128744602203369,\n",
       " 0.3154332637786865,\n",
       " 0.15367960929870605,\n",
       " 0.4364962577819824]"
      ]
     },
     "execution_count": 9,
     "metadata": {},
     "output_type": "execute_result"
    }
   ],
   "source": [
    "times"
   ]
  },
  {
   "cell_type": "code",
   "execution_count": null,
   "metadata": {},
   "outputs": [],
   "source": []
  }
 ],
 "metadata": {
  "kernelspec": {
   "display_name": "Python 3",
   "language": "python",
   "name": "python3"
  },
  "language_info": {
   "codemirror_mode": {
    "name": "ipython",
    "version": 3
   },
   "file_extension": ".py",
   "mimetype": "text/x-python",
   "name": "python",
   "nbconvert_exporter": "python",
   "pygments_lexer": "ipython3",
   "version": "3.7.4"
  }
 },
 "nbformat": 4,
 "nbformat_minor": 4
}
