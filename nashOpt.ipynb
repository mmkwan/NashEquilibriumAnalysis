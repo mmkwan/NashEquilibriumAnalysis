{
 "cells": [
  {
   "cell_type": "code",
   "execution_count": 1,
   "metadata": {},
   "outputs": [
    {
     "data": {
      "text/plain": [
       "'\\nCreated on Wed Dec  1 15:34:54 2021\\n\\n@author: p4u1\\n'"
      ]
     },
     "execution_count": 1,
     "metadata": {},
     "output_type": "execute_result"
    }
   ],
   "source": [
    "# -*- coding: utf-8 -*-\n",
    "\"\"\"\n",
    "Created on Wed Dec  1 15:34:54 2021\n",
    "\n",
    "@author: p4u1\n",
    "\"\"\""
   ]
  },
  {
   "cell_type": "code",
   "execution_count": 2,
   "metadata": {},
   "outputs": [],
   "source": [
    "import numpy as np\n",
    "import scipy.optimize as opt"
   ]
  },
  {
   "cell_type": "code",
   "execution_count": 11,
   "metadata": {},
   "outputs": [],
   "source": [
    "def primalLinearProgOpt(A, meth = 'simplex'):\n",
    "    \"\"\" Wrapper function to get primal optimization results\n",
    "        Uses scipy.optimize.linprog method\n",
    "    \n",
    "    Arguments:  A - square n x n payoff matrix (must be ndarray)\n",
    "                n - size of matrix A\n",
    "                method - linear programming method to use\n",
    "                \n",
    "    Returns:    Optimization variable values\n",
    "                Objective function value\"\"\"\n",
    "\n",
    "    # Objective function coefficents\n",
    "    n = len(A)\n",
    "    c0 = [0 for i in range(n)]\n",
    "    c0.append(-1)\n",
    "    c0 = np.array(c0)\n",
    "    \n",
    "    # Inequality contraints\n",
    "    a = np.ones((n,1))\n",
    "    A_u = np.concatenate((-(A.T), a), axis = 1)\n",
    "    b_u = np.zeros(n)\n",
    "    \n",
    "    # Equality contraints\n",
    "    A_e = [1 for i in range(n)]\n",
    "    A_e.append(0)\n",
    "    A_e = np.array(A_e)\n",
    "    A_e = A_e.reshape((1,n+1))\n",
    "    b_e = np.array(1)\n",
    "    \n",
    "    # Bounds\n",
    "    bound = [(0, None) for i in range(n)]\n",
    "    bound.append((None,None))\n",
    "    \n",
    "    # Run scipy.optimize.linprog method\n",
    "    results = opt.linprog(c=c0,\n",
    "                          A_ub=A_u, b_ub=b_u,\n",
    "                          A_eq=A_e, b_eq=b_e,\n",
    "                          bounds=bound, \n",
    "                          method=meth)\n",
    "    \n",
    "    return results.x\n",
    "\n",
    "# Test area\n",
    "# A = np.array([[0,-1,1],[1,0,-1],[-1,1,0]])\n",
    "# n = 3\n",
    "\n",
    "# resultsPrimal = primalLinearProgOpt(A, n, 'interior-point')\n",
    "# resultsDual = dualLinearProgOpt(A, n)"
   ]
  },
  {
   "cell_type": "code",
   "execution_count": 12,
   "metadata": {},
   "outputs": [],
   "source": [
    "def dualLinearProgOpt(A, meth = 'simplex'):\n",
    "    \"\"\" Wrapper function to get dual optimization results\n",
    "        Uses scipy.optimize.linprog method\n",
    "    \n",
    "    Arguments:  A - square n x n payoff matrix (must be ndarray)\n",
    "                n - size of matrix A\n",
    "                method - linear programming method to use\n",
    "                \n",
    "    Returns:    Optimization variable values\"\"\"\n",
    "\n",
    "    # Objective function coefficents\n",
    "    n = len(A)\n",
    "    c0 = [0 for i in range(n)]\n",
    "    c0.append(1)\n",
    "    c0 = np.array(c0)\n",
    "    \n",
    "    # Inequality contraints\n",
    "    a = np.ones((n,1))\n",
    "    A_u = np.concatenate((A, -a), axis = 1)\n",
    "    b_u = np.zeros(n)\n",
    "    \n",
    "    # Equality contraints\n",
    "    A_e = [1 for i in range(n)]\n",
    "    A_e.append(0)\n",
    "    A_e = np.array(A_e)\n",
    "    A_e = A_e.reshape((1,n+1))\n",
    "    b_e = np.array(1)\n",
    "    \n",
    "    # Bounds\n",
    "    bound = [(0, None) for i in range(n)]\n",
    "    bound.append((None,None))\n",
    "    \n",
    "    # Run scipy.optimize.linprog method\n",
    "    results = opt.linprog(c=c0,\n",
    "                          A_ub=A_u, b_ub=b_u,\n",
    "                          A_eq=A_e, b_eq=b_e,\n",
    "                          bounds=bound, \n",
    "                          method=meth)\n",
    "    \n",
    "    return results.x"
   ]
  },
  {
   "cell_type": "code",
   "execution_count": 13,
   "metadata": {},
   "outputs": [],
   "source": [
    "import time\n",
    "%run util_matrix_generators.ipynb"
   ]
  },
  {
   "cell_type": "code",
   "execution_count": 41,
   "metadata": {},
   "outputs": [],
   "source": [
    "# varying size of R\n",
    "times = []\n",
    "for n in range(1, 50):\n",
    "    start = time.time()\n",
    "    A = generate_R_random(-1, 1, n)\n",
    "    primalLinearProgOpt(A)\n",
    "    end = time.time()\n",
    "    times.append(end - start)"
   ]
  },
  {
   "cell_type": "code",
   "execution_count": 42,
   "metadata": {},
   "outputs": [
    {
     "data": {
      "text/plain": [
       "[0.0,\n",
       " 0.01654052734375,\n",
       " 0.009274482727050781,\n",
       " 0.009276390075683594,\n",
       " 0.014235496520996094,\n",
       " 0.011705398559570312,\n",
       " 0.017864704132080078,\n",
       " 0.0035746097564697266,\n",
       " 0.02764415740966797,\n",
       " 0.023747682571411133,\n",
       " 0.03320574760437012,\n",
       " 0.020819664001464844,\n",
       " 0.0388789176940918,\n",
       " 0.04243731498718262,\n",
       " 0.029685258865356445,\n",
       " 0.05309486389160156,\n",
       " 0.06982803344726562,\n",
       " 0.0451664924621582,\n",
       " 0.05126190185546875,\n",
       " 0.0708010196685791,\n",
       " 0.07817316055297852,\n",
       " 0.1516737937927246,\n",
       " 0.11605954170227051,\n",
       " 0.12970972061157227,\n",
       " 0.12241768836975098,\n",
       " 0.12666845321655273,\n",
       " 0.16576242446899414,\n",
       " 0.17684459686279297,\n",
       " 0.23381495475769043,\n",
       " 0.1951444149017334,\n",
       " 0.18527460098266602,\n",
       " 0.21867132186889648,\n",
       " 0.21531248092651367,\n",
       " 0.19642925262451172,\n",
       " 0.19928789138793945,\n",
       " 0.23405909538269043,\n",
       " 0.3924739360809326,\n",
       " 0.5185506343841553,\n",
       " 0.49080705642700195,\n",
       " 0.4149959087371826,\n",
       " 0.7261872291564941,\n",
       " 0.7658867835998535,\n",
       " 0.6268830299377441,\n",
       " 0.7644882202148438,\n",
       " 1.1060965061187744,\n",
       " 1.0783040523529053,\n",
       " 1.437809944152832,\n",
       " 0.44324350357055664,\n",
       " 0.9713180065155029]"
      ]
     },
     "execution_count": 42,
     "metadata": {},
     "output_type": "execute_result"
    }
   ],
   "source": [
    "times"
   ]
  },
  {
   "cell_type": "markdown",
   "metadata": {},
   "source": [
    "### Error past size of 50x50 R"
   ]
  },
  {
   "cell_type": "markdown",
   "metadata": {},
   "source": [
    "Phase 1 of the simplex method failed to find a feasible solution. The pseudo-objective function evaluates to 3.4e-01 which exceeds the required tolerance of 1e-09 for a solution to be considered 'close enough' to zero to be a basic solution. Consider increasing the tolerance to be greater than 3.4e-01. If this tolerance is unacceptably  large the problem may be infeasible."
   ]
  },
  {
   "cell_type": "code",
   "execution_count": null,
   "metadata": {},
   "outputs": [],
   "source": []
  }
 ],
 "metadata": {
  "kernelspec": {
   "display_name": "Python 3",
   "language": "python",
   "name": "python3"
  },
  "language_info": {
   "codemirror_mode": {
    "name": "ipython",
    "version": 3
   },
   "file_extension": ".py",
   "mimetype": "text/x-python",
   "name": "python",
   "nbconvert_exporter": "python",
   "pygments_lexer": "ipython3",
   "version": "3.7.4"
  }
 },
 "nbformat": 4,
 "nbformat_minor": 4
}
