{
 "cells": [
  {
   "cell_type": "code",
   "execution_count": 10,
   "metadata": {},
   "outputs": [
    {
     "data": {
      "text/plain": [
       "'\\nCreated on Wed Dec  1 15:34:54 2021\\n\\n@author: p4u1\\n'"
      ]
     },
     "execution_count": 10,
     "metadata": {},
     "output_type": "execute_result"
    }
   ],
   "source": [
    "# -*- coding: utf-8 -*-\n",
    "\"\"\"\n",
    "Created on Wed Dec  1 15:34:54 2021\n",
    "\n",
    "@author: p4u1\n",
    "\"\"\""
   ]
  },
  {
   "cell_type": "markdown",
   "metadata": {},
   "source": [
    "# Table of Contents\n",
    "\n",
    "* [Optimization functions](#functions)\n",
    "* [Testing](#test)\n",
    "    * [Simplex](#simplex)\n",
    "        * [Primal Form](#primal)\n",
    "        * [Dual Form](#dual)\n",
    "    * [Interior Point](#interiorPoint)\n",
    "        * [Primal Form](#primal2)\n",
    "        * [Dual Form](#dual2)\n",
    "* [Error Messages](#error)"
   ]
  },
  {
   "cell_type": "markdown",
   "metadata": {},
   "source": [
    "## Optimization functions <a class=\"anchor\" id=\"functions\"></a>"
   ]
  },
  {
   "cell_type": "code",
   "execution_count": 11,
   "metadata": {},
   "outputs": [],
   "source": [
    "import numpy as np\n",
    "import scipy.optimize as opt"
   ]
  },
  {
   "cell_type": "code",
   "execution_count": 12,
   "metadata": {},
   "outputs": [],
   "source": [
    "def primalLinearProgOpt(A, meth = 'simplex', tol=1e-9):\n",
    "    \"\"\" Wrapper function to get primal optimization results\n",
    "        Uses scipy.optimize.linprog method\n",
    "    \n",
    "    Arguments:  A - square n x n payoff matrix (must be ndarray)\n",
    "                n - size of matrix A\n",
    "                method - linear programming method to use\n",
    "                \n",
    "    Returns:    Optimization variable values\n",
    "                Objective function value\"\"\"\n",
    "\n",
    "    # Objective function coefficents\n",
    "    n = len(A)\n",
    "    c0 = [0 for i in range(n)]\n",
    "    c0.append(-1)\n",
    "    c0 = np.array(c0)\n",
    "    \n",
    "    # Inequality contraints\n",
    "    a = np.ones((n,1))\n",
    "    A_u = np.concatenate((-(A.T), a), axis = 1)\n",
    "    b_u = np.zeros(n)\n",
    "    \n",
    "    # Equality contraints\n",
    "    A_e = [1 for i in range(n)]\n",
    "    A_e.append(0)\n",
    "    A_e = np.array(A_e)\n",
    "    A_e = A_e.reshape((1,n+1))\n",
    "    b_e = np.array(1)\n",
    "    \n",
    "    # Bounds\n",
    "    bound = [(0, None) for i in range(n)]\n",
    "    bound.append((None,None))\n",
    "    \n",
    "    # Run scipy.optimize.linprog method\n",
    "    results = opt.linprog(c=c0,\n",
    "                          A_ub=A_u, b_ub=b_u,\n",
    "                          A_eq=A_e, b_eq=b_e,\n",
    "                          bounds=bound, \n",
    "                          method=meth,\n",
    "                          options = {'tol':tol})\n",
    "    \n",
    "    return results.x\n",
    "\n",
    "# Test area\n",
    "# A = np.array([[0,-1,1],[1,0,-1],[-1,1,0]])\n",
    "# n = 3\n",
    "\n",
    "# resultsPrimal = primalLinearProgOpt(A, n, 'interior-point')\n",
    "# resultsDual = dualLinearProgOpt(A, n)"
   ]
  },
  {
   "cell_type": "code",
   "execution_count": 13,
   "metadata": {},
   "outputs": [],
   "source": [
    "def dualLinearProgOpt(A, meth='simplex', tol=1e-9):\n",
    "    \"\"\" Wrapper function to get dual optimization results\n",
    "        Uses scipy.optimize.linprog method\n",
    "    \n",
    "    Arguments:  A - square n x n payoff matrix (must be ndarray)\n",
    "                n - size of matrix A\n",
    "                method - linear programming method to use\n",
    "                \n",
    "    Returns:    Optimization variable values\"\"\"\n",
    "\n",
    "    # Objective function coefficents\n",
    "    n = len(A)\n",
    "    c0 = [0 for i in range(n)]\n",
    "    c0.append(1)\n",
    "    c0 = np.array(c0)\n",
    "    \n",
    "    # Inequality contraints\n",
    "    a = np.ones((n,1))\n",
    "    A_u = np.concatenate((A, -a), axis = 1)\n",
    "    b_u = np.zeros(n)\n",
    "    \n",
    "    # Equality contraints\n",
    "    A_e = [1 for i in range(n)]\n",
    "    A_e.append(0)\n",
    "    A_e = np.array(A_e)\n",
    "    A_e = A_e.reshape((1,n+1))\n",
    "    b_e = np.array(1)\n",
    "    \n",
    "    # Bounds\n",
    "    bound = [(0, None) for i in range(n)]\n",
    "    bound.append((None,None))\n",
    "    \n",
    "    # Run scipy.optimize.linprog method\n",
    "    results = opt.linprog(c=c0,\n",
    "                          A_ub=A_u, b_ub=b_u,\n",
    "                          A_eq=A_e, b_eq=b_e,\n",
    "                          bounds=bound, \n",
    "                          method=meth,\n",
    "                          options={'tol':tol})\n",
    "    \n",
    "    return results.x"
   ]
  },
  {
   "cell_type": "markdown",
   "metadata": {},
   "source": [
    "## Testing <a class=\"anchor\" id=\"test\"></a>"
   ]
  },
  {
   "cell_type": "code",
   "execution_count": 14,
   "metadata": {},
   "outputs": [],
   "source": [
    "import time\n",
    "%run util_matrix_generators.ipynb"
   ]
  },
  {
   "cell_type": "markdown",
   "metadata": {},
   "source": [
    "### Simplex Method <a class=\"anchor\" id=\"simplex\"></a>"
   ]
  },
  {
   "cell_type": "markdown",
   "metadata": {},
   "source": [
    "#### Primal Form <a class=\"anchor\" id=\"primal\"></a>"
   ]
  },
  {
   "cell_type": "code",
   "execution_count": 19,
   "metadata": {},
   "outputs": [
    {
     "name": "stderr",
     "output_type": "stream",
     "text": [
      "c:\\users\\sshim\\appdata\\local\\programs\\python\\python37\\lib\\site-packages\\ipykernel_launcher.py:40: OptimizeWarning: The pivot operation produces a pivot value of: 7.8e-06, which is only slightly greater than the specified tolerance 1.0e-09. This may lead to issues regarding the numerical stability of the simplex method. Removing redundant constraints, changing the pivot strategy via Bland's rule or increasing the tolerance may help reduce the issue.\n",
      "c:\\users\\sshim\\appdata\\local\\programs\\python\\python37\\lib\\site-packages\\ipykernel_launcher.py:40: OptimizeWarning: The pivot operation produces a pivot value of: 9.6e-06, which is only slightly greater than the specified tolerance 1.0e-09. This may lead to issues regarding the numerical stability of the simplex method. Removing redundant constraints, changing the pivot strategy via Bland's rule or increasing the tolerance may help reduce the issue.\n"
     ]
    }
   ],
   "source": [
    "# varying size of R\n",
    "times = []\n",
    "for n in range(1, 300, 10):\n",
    "    A = generate_R_uniform2(100, 200, n)\n",
    "    start = time.time()\n",
    "    primalLinearProgOpt(A)\n",
    "    end = time.time()\n",
    "    times.append(end - start)"
   ]
  },
  {
   "cell_type": "code",
   "execution_count": 17,
   "metadata": {},
   "outputs": [
    {
     "data": {
      "text/plain": [
       "[0.001962900161743164,\n",
       " 0.024590015411376953,\n",
       " 0.08903264999389648,\n",
       " 0.1343059539794922,\n",
       " 0.41256070137023926,\n",
       " 0.4614086151123047,\n",
       " 0.4819817543029785,\n",
       " 0.5792291164398193,\n",
       " 0.9858348369598389,\n",
       " 0.5828876495361328,\n",
       " 0.6237852573394775,\n",
       " 0.6460206508636475,\n",
       " 0.7052896022796631,\n",
       " 0.773726224899292,\n",
       " 0.9652533531188965,\n",
       " 1.4024240970611572,\n",
       " 0.8910093307495117,\n",
       " 0.9560041427612305,\n",
       " 1.0096931457519531,\n",
       " 1.249009370803833]"
      ]
     },
     "execution_count": 17,
     "metadata": {},
     "output_type": "execute_result"
    }
   ],
   "source": [
    "times"
   ]
  },
  {
   "cell_type": "markdown",
   "metadata": {},
   "source": [
    "#### Dual Form <a class=\"anchor\" id=\"dual\"></a>"
   ]
  },
  {
   "cell_type": "markdown",
   "metadata": {},
   "source": [
    "### Interior Point Method <a class=\"anchor\" id=\"interiorPoint\"></a>"
   ]
  },
  {
   "cell_type": "markdown",
   "metadata": {},
   "source": [
    "#### Primal Form <a class=\"anchor\" id=\"primal2\"></a>"
   ]
  },
  {
   "cell_type": "code",
   "execution_count": 76,
   "metadata": {},
   "outputs": [],
   "source": [
    "# varying size of R\n",
    "times = []\n",
    "A = generate_R_uniform(-10, 10, 1)\n",
    "start = time.time()\n",
    "primalLinearProgOpt(A, meth='interior-point')\n",
    "end = time.time()\n",
    "times.append((1, end-start))\n",
    "for n in range(100, 4001, 100):\n",
    "    A = generate_R_uniform(-10, 10, n)\n",
    "    start = time.time()\n",
    "    primalLinearProgOpt(A, meth='interior-point')\n",
    "    end = time.time()\n",
    "    times.append((n, end - start))"
   ]
  },
  {
   "cell_type": "code",
   "execution_count": 77,
   "metadata": {},
   "outputs": [
    {
     "ename": "TypeError",
     "evalue": "write() argument must be str, not list",
     "output_type": "error",
     "traceback": [
      "\u001b[1;31m---------------------------------------------------------------------------\u001b[0m",
      "\u001b[1;31mTypeError\u001b[0m                                 Traceback (most recent call last)",
      "\u001b[1;32m<ipython-input-77-290cf46cc356>\u001b[0m in \u001b[0;36m<module>\u001b[1;34m\u001b[0m\n\u001b[0;32m      1\u001b[0m \u001b[0mfile\u001b[0m \u001b[1;33m=\u001b[0m \u001b[0mopen\u001b[0m\u001b[1;33m(\u001b[0m\u001b[1;34m'interior_primal_times.txt'\u001b[0m\u001b[1;33m,\u001b[0m \u001b[1;34m'w'\u001b[0m\u001b[1;33m)\u001b[0m\u001b[1;33m\u001b[0m\u001b[1;33m\u001b[0m\u001b[0m\n\u001b[1;32m----> 2\u001b[1;33m \u001b[0mfile\u001b[0m\u001b[1;33m.\u001b[0m\u001b[0mwrite\u001b[0m\u001b[1;33m(\u001b[0m\u001b[0mtimes\u001b[0m\u001b[1;33m)\u001b[0m\u001b[1;33m\u001b[0m\u001b[1;33m\u001b[0m\u001b[0m\n\u001b[0m\u001b[0;32m      3\u001b[0m \u001b[0mfile\u001b[0m\u001b[1;33m.\u001b[0m\u001b[0mclose\u001b[0m\u001b[1;33m(\u001b[0m\u001b[1;33m)\u001b[0m\u001b[1;33m\u001b[0m\u001b[1;33m\u001b[0m\u001b[0m\n\u001b[0;32m      4\u001b[0m \u001b[1;33m\u001b[0m\u001b[0m\n\u001b[0;32m      5\u001b[0m \u001b[1;31m# file = open('interior_dual_times.txt', 'r')\u001b[0m\u001b[1;33m\u001b[0m\u001b[1;33m\u001b[0m\u001b[1;33m\u001b[0m\u001b[0m\n",
      "\u001b[1;31mTypeError\u001b[0m: write() argument must be str, not list"
     ]
    }
   ],
   "source": [
    "file = open('interior_primal_times.txt', 'w')\n",
    "file.write(times)\n",
    "file.close()\n",
    "\n",
    "# file = open('interior_dual_times.txt', 'r')\n",
    "# times2 = file.read()\n",
    "# file.close"
   ]
  },
  {
   "cell_type": "markdown",
   "metadata": {},
   "source": [
    "#### Dual Form <a class=\"anchor\" id=\"dual2\"></a>"
   ]
  },
  {
   "cell_type": "code",
   "execution_count": 42,
   "metadata": {},
   "outputs": [],
   "source": [
    "# varying size of R\n",
    "times = []\n",
    "A = generate_R_uniform(-10, 10, 1)\n",
    "start = time.time()\n",
    "dualLinearProgOpt(A, meth='interior-point')\n",
    "end = time.time()\n",
    "times.append((1, end-start))\n",
    "for n in range(100, 4001, 100):\n",
    "    A = generate_R_uniform(-10, 10, n)\n",
    "    start = time.time()\n",
    "    dualLinearProgOpt(A, meth='interior-point')\n",
    "    end = time.time()\n",
    "    times.append((n, end - start))"
   ]
  },
  {
   "cell_type": "code",
   "execution_count": 71,
   "metadata": {},
   "outputs": [
    {
     "data": {
      "text/plain": [
       "<function TextIOWrapper.close()>"
      ]
     },
     "execution_count": 71,
     "metadata": {},
     "output_type": "execute_result"
    }
   ],
   "source": [
    "# file = open('interior_dual_times.txt', 'w')\n",
    "# file.write(str(times))\n",
    "# file.close()\n",
    "\n",
    "# file = open('interior_dual_times.txt', 'r')\n",
    "# times2 = file.read()\n",
    "# file.close"
   ]
  },
  {
   "cell_type": "code",
   "execution_count": 74,
   "metadata": {},
   "outputs": [],
   "source": [
    "exec(times2)"
   ]
  },
  {
   "cell_type": "markdown",
   "metadata": {},
   "source": [
    "3000x3000: 40s"
   ]
  },
  {
   "cell_type": "markdown",
   "metadata": {},
   "source": [
    "## Error Messages <a class=\"anchor\" id=\"error\"></a>"
   ]
  },
  {
   "cell_type": "markdown",
   "metadata": {},
   "source": [
    "#### Simplex Method past 60x60 size R (both primal and dual), using generate_R_uniform(-1, 1, n)"
   ]
  },
  {
   "cell_type": "markdown",
   "metadata": {},
   "source": [
    "Phase 1 of the simplex method failed to find a feasible solution. The pseudo-objective function evaluates to 3.4e-01 which exceeds the required tolerance of 1e-09 for a solution to be considered 'close enough' to zero to be a basic solution. Consider increasing the tolerance to be greater than 3.4e-01. If this tolerance is unacceptably large the problem may be infeasible"
   ]
  },
  {
   "cell_type": "code",
   "execution_count": 18,
   "metadata": {},
   "outputs": [
    {
     "data": {
      "text/plain": [
       "array([[   0.        , -156.21071933, -101.75566897,  134.40988703,\n",
       "        -168.32691167],\n",
       "       [ 156.21071933,    0.        , -113.53193802, -133.90547443,\n",
       "         197.73066495],\n",
       "       [ 101.75566897,  113.53193802,    0.        ,  157.29800504,\n",
       "        -196.91065927],\n",
       "       [-134.40988703,  133.90547443, -157.29800504,    0.        ,\n",
       "        -182.39965829],\n",
       "       [ 168.32691167, -197.73066495,  196.91065927,  182.39965829,\n",
       "           0.        ]])"
      ]
     },
     "execution_count": 18,
     "metadata": {},
     "output_type": "execute_result"
    }
   ],
   "source": [
    "generate_R_uniform2(100, 200, 5)"
   ]
  },
  {
   "cell_type": "code",
   "execution_count": null,
   "metadata": {},
   "outputs": [],
   "source": []
  }
 ],
 "metadata": {
  "kernelspec": {
   "display_name": "Python 3",
   "language": "python",
   "name": "python3"
  }
 },
 "nbformat": 4,
 "nbformat_minor": 4
}
